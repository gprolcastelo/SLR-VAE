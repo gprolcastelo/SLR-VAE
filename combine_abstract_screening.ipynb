{
 "cells": [
  {
   "cell_type": "code",
   "id": "392d8b5a",
   "metadata": {},
   "source": [
    "import pandas as pd"
   ],
   "outputs": [],
   "execution_count": null
  },
  {
   "cell_type": "code",
   "id": "403183cb",
   "metadata": {},
   "source": [
    "# Import data\n",
    "gs = pd.read_excel('3_title_and_abstract_screening/scholar_unique.xlsx',nrows=200)\n",
    "scopus = pd.read_excel('3_title_and_abstract_screening/scopus_unique.xlsx')\n",
    "wos = pd.read_excel('3_title_and_abstract_screening/wos_unique.xlsx')\n",
    "\n",
    "print(gs.shape, scopus.shape, wos.shape)"
   ],
   "outputs": [],
   "execution_count": null
  },
  {
   "cell_type": "markdown",
   "id": "4cdf1ab6",
   "metadata": {
    "ExecuteTime": {
     "end_time": "2025-01-22T13:13:47.834524Z",
     "start_time": "2025-01-22T13:13:47.831373Z"
    }
   },
   "source": [
    "Select columns of interest across databases:"
   ]
  },
  {
   "cell_type": "code",
   "id": "5fa1becb",
   "metadata": {},
   "source": [
    "selected_gs = gs[\n",
    "    ['Included (0 No, 1 Yes)','Reason for inclusion or exclusion',\n",
    "     'Authors','Title','Year','Source','ArticleURL','DOI']\n",
    "][gs['Included (0 No, 1 Yes)']==1]\n",
    "\n",
    "selected_scopus = scopus[\n",
    "    ['Included (0 No, 1 Yes)', 'Reason for inclusion or exclusion',\n",
    "     'Authors','Title','Year','Source title','Link','DOI']\n",
    "][scopus['Included (0 No, 1 Yes)']==1]\n",
    "\n",
    "selected_wos = wos[\n",
    "    ['Included (0 No, 1 Yes)', 'Reason for inclusion or exclusion',\n",
    "     'Authors','Article Title','Publication Year','Source Title','DOI Link','DOI']\n",
    "][wos['Included (0 No, 1 Yes)']==1]\n",
    "\n",
    "print(selected_gs.shape,selected_scopus.shape,selected_wos.shape)"
   ],
   "outputs": [],
   "execution_count": null
  },
  {
   "cell_type": "markdown",
   "id": "c987d107",
   "metadata": {},
   "source": [
    "Rename columns so they coincide across databases:"
   ]
  },
  {
   "cell_type": "code",
   "id": "0720a159",
   "metadata": {},
   "source": [
    "col_names = ['Included (0 No, 1 Yes)', 'Reason for inclusion or exclusion', 'Authors','Title','Year','Source','ArticleURL','DOI']\n",
    "selected_scopus.columns = col_names\n",
    "selected_wos.columns = col_names"
   ],
   "outputs": [],
   "execution_count": null
  },
  {
   "cell_type": "markdown",
   "id": "182c2a50",
   "metadata": {},
   "source": [
    "Combine databases on selected columns to get a single file:"
   ]
  },
  {
   "cell_type": "code",
   "id": "3c2cbeee",
   "metadata": {},
   "source": [
    "selected_combined = pd.concat([\n",
    "    selected_gs,\n",
    "    selected_scopus,\n",
    "    selected_wos\n",
    "],ignore_index=True,axis='index')\n",
    "selected_combined.shape"
   ],
   "outputs": [],
   "execution_count": null
  },
  {
   "cell_type": "markdown",
   "id": "c5d7a8fa",
   "metadata": {},
   "source": [
    "Build missing URL from DOI:"
   ]
  },
  {
   "cell_type": "code",
   "id": "f082b1f2",
   "metadata": {},
   "source": [
    "selected_combined['ArticleURL'][selected_combined['ArticleURL']==0]='https://www.doi.org/'+selected_combined['DOI'][selected_combined['ArticleURL']==0].values[0]"
   ],
   "outputs": [],
   "execution_count": null
  },
  {
   "cell_type": "markdown",
   "id": "b87ef282",
   "metadata": {},
   "source": [
    "Drop values in the `'Included (0 No, 1 Yes)'` and `'Reason for inclusion or exclusion'` columns so they are clear for screening the full texts:"
   ]
  },
  {
   "cell_type": "code",
   "id": "cb6d8c8d",
   "metadata": {},
   "source": [
    "selected_combined['Included (0 No, 1 Yes)']=pd.NA\n",
    "selected_combined['Reason for inclusion or exclusion']=pd.NA"
   ],
   "outputs": [],
   "execution_count": null
  },
  {
   "cell_type": "markdown",
   "id": "1fdeae84",
   "metadata": {},
   "source": [
    "Save results."
   ]
  },
  {
   "cell_type": "code",
   "id": "5730832e",
   "metadata": {},
   "source": [
    "selected_combined.to_excel('4_full_text_screening/combined_dataset.xlsx',index=0)"
   ],
   "outputs": [],
   "execution_count": null
  }
 ],
 "metadata": {
  "kernelspec": {
   "display_name": "Python 3 (ipykernel)",
   "language": "python",
   "name": "python3"
  },
  "language_info": {
   "codemirror_mode": {
    "name": "ipython",
    "version": 3
   },
   "file_extension": ".py",
   "mimetype": "text/x-python",
   "name": "python",
   "nbconvert_exporter": "python",
   "pygments_lexer": "ipython3",
   "version": "3.10.12"
  },
  "toc": {
   "base_numbering": 1,
   "nav_menu": {},
   "number_sections": true,
   "sideBar": true,
   "skip_h1_title": false,
   "title_cell": "Table of Contents",
   "title_sidebar": "Contents",
   "toc_cell": false,
   "toc_position": {},
   "toc_section_display": true,
   "toc_window_display": false
  },
  "varInspector": {
   "cols": {
    "lenName": 16,
    "lenType": 16,
    "lenVar": 40
   },
   "kernels_config": {
    "python": {
     "delete_cmd_postfix": "",
     "delete_cmd_prefix": "del ",
     "library": "var_list.py",
     "varRefreshCmd": "print(var_dic_list())"
    },
    "r": {
     "delete_cmd_postfix": ") ",
     "delete_cmd_prefix": "rm(",
     "library": "var_list.r",
     "varRefreshCmd": "cat(var_dic_list()) "
    }
   },
   "types_to_exclude": [
    "module",
    "function",
    "builtin_function_or_method",
    "instance",
    "_Feature"
   ],
   "window_display": false
  }
 },
 "nbformat": 4,
 "nbformat_minor": 5
}
