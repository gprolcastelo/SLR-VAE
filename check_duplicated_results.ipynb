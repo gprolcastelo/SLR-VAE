{
 "cells": [
  {
   "cell_type": "code",
   "id": "392d8b5a",
   "metadata": {},
   "source": [
    "import pandas as pd"
   ],
   "outputs": [],
   "execution_count": null
  },
  {
   "cell_type": "code",
   "id": "403183cb",
   "metadata": {},
   "source": [
    "# Import data\n",
    "gs = pd.read_excel('scholar_through_publishorperish.xlsx')\n",
    "scopus = pd.read_excel('scopus.xlsx')\n",
    "wos = pd.read_excel('wos.xls')\n",
    "\n",
    "print(gs.shape, scopus.shape, wos.shape)"
   ],
   "outputs": [],
   "execution_count": null
  },
  {
   "cell_type": "markdown",
   "id": "15a14619",
   "metadata": {},
   "source": [
    "Check missing DOIs:"
   ]
  },
  {
   "cell_type": "code",
   "id": "cb3062f1",
   "metadata": {},
   "source": [
    "print(gs.DOI.isna().sum())\n",
    "print(scopus.DOI.isna().sum())\n",
    "print(wos.DOI.isna().sum())"
   ],
   "outputs": [],
   "execution_count": null
  },
  {
   "cell_type": "markdown",
   "id": "f896a0ea",
   "metadata": {},
   "source": [
    "Check missing Titles:"
   ]
  },
  {
   "cell_type": "code",
   "id": "ef9965bd",
   "metadata": {},
   "source": [
    "print(gs.Title.isna().sum())\n",
    "print(scopus.Title.isna().sum())\n",
    "print(wos['Article Title'].isna().sum())"
   ],
   "outputs": [],
   "execution_count": null
  },
  {
   "cell_type": "markdown",
   "id": "c612dd88",
   "metadata": {},
   "source": [
    "To get duplicates we will look at the tile, since there are many missing DOIs, especially from Google Scholar."
   ]
  },
  {
   "cell_type": "markdown",
   "id": "b673ee36",
   "metadata": {},
   "source": [
    "1. Duplicates within each search engine"
   ]
  },
  {
   "cell_type": "code",
   "id": "8ca34d6a",
   "metadata": {},
   "source": [
    "# Find duplicates within each search engine:\n",
    "duplicates_gs=gs[gs.Title.duplicated(keep='first')].index\n",
    "duplicates_scopus=scopus[scopus.Title.duplicated(keep='first')].index\n",
    "duplicates_wos=wos[wos['Article Title'].duplicated(keep='first')].index\n",
    "# Check number of duplicates:\n",
    "print('Duplicates in Google Scholar search:', duplicates_gs.shape[0])\n",
    "print('Duplicates in Scopus search:', duplicates_scopus.shape[0])\n",
    "print('Duplicates in Web of Science search:', duplicates_wos.shape[0])\n",
    "# Update tables:\n",
    "gs.drop(index=duplicates_gs,inplace=True)\n",
    "scopus.drop(index=duplicates_scopus,inplace=True)\n",
    "wos.drop(index=duplicates_wos,inplace=True)\n",
    "# Check new dimensions:\n",
    "print('Number of results from Google Scholar after removed duplicates:', gs.shape[0])\n",
    "print('Number of results from Scopus after removed duplicates:', scopus.shape[0])\n",
    "print('Number of results from Web of Science after removed duplicates:', wos.shape[0])"
   ],
   "outputs": [],
   "execution_count": null
  },
  {
   "cell_type": "markdown",
   "id": "c0c97941",
   "metadata": {},
   "source": [
    "2. Duplicates among all search engines"
   ]
  },
  {
   "cell_type": "code",
   "id": "3f2dcbe1",
   "metadata": {},
   "source": [
    "all_titles=pd.Series(pd.concat([gs.Title, scopus.Title, wos['Article Title']]))\n",
    "duplicated_titles=all_titles[all_titles.duplicated(keep='first')]\n",
    "print('Number of duplicates across all results:',duplicated_titles.shape[0])"
   ],
   "outputs": [],
   "execution_count": null
  },
  {
   "cell_type": "code",
   "id": "cefb8b48",
   "metadata": {},
   "source": [
    "print(\"In Google Scholar:\",gs.Title.isin(duplicated_titles).sum())\n",
    "print(\"In Scopus:\",scopus.Title.isin(duplicated_titles).sum())\n",
    "print(\"In Web of Science:\",wos['Article Title'].isin(duplicated_titles).sum())"
   ],
   "outputs": [],
   "execution_count": null
  },
  {
   "cell_type": "markdown",
   "id": "f0bfbd04",
   "metadata": {},
   "source": [
    "    2.1. Keep all the common duplicates in the Google Scholar table and remove these from the Scopus and Web of Science tables."
   ]
  },
  {
   "cell_type": "code",
   "id": "923111d8",
   "metadata": {},
   "source": [
    "common_gs = gs.Title[gs.Title.isin(duplicated_titles)]\n",
    "scopus=scopus[~scopus.Title.isin(common_gs)]\n",
    "wos=wos[~wos['Article Title'].isin(common_gs)]"
   ],
   "outputs": [],
   "execution_count": null
  },
  {
   "cell_type": "markdown",
   "id": "77225731",
   "metadata": {},
   "source": [
    "Check that the number of duplicates has changed and that there are none left in the Google Scholar table."
   ]
  },
  {
   "cell_type": "code",
   "id": "71bbe89e",
   "metadata": {},
   "source": [
    "all_titles_2=pd.Series(pd.concat([gs.Title, scopus.Title, wos['Article Title']]))\n",
    "duplicated_titles_2=all_titles_2[all_titles_2.duplicated(keep='first')]\n",
    "print('Remaining number of duplicates:',duplicated_titles_2.shape[0])"
   ],
   "outputs": [],
   "execution_count": null
  },
  {
   "cell_type": "code",
   "id": "a3c2847e",
   "metadata": {},
   "source": [
    "print('Number of duplicates remaining in Google Scholar:', gs.Title.isin(duplicated_titles_2).sum())\n",
    "print('Number of duplicates remaining in Scopus:', scopus.Title.isin(duplicated_titles_2).sum())\n",
    "print('Number of duplicates remaining in Web of Science:', wos['Article Title'].isin(duplicated_titles_2).sum())"
   ],
   "outputs": [],
   "execution_count": null
  },
  {
   "cell_type": "markdown",
   "id": "d2b42204",
   "metadata": {},
   "source": [
    "    2.2. Keep the remaining common duplicates in the Scopus table and remove these from the Web of Science table."
   ]
  },
  {
   "cell_type": "code",
   "id": "84abfecf",
   "metadata": {},
   "source": [
    "common_scopus = scopus.Title[scopus.Title.isin(duplicated_titles_2)]"
   ],
   "outputs": [],
   "execution_count": null
  },
  {
   "cell_type": "code",
   "id": "5f973716",
   "metadata": {},
   "source": [
    "wos=wos[~wos['Article Title'].isin(common_scopus)]"
   ],
   "outputs": [],
   "execution_count": null
  },
  {
   "cell_type": "markdown",
   "id": "ac0608b8",
   "metadata": {},
   "source": [
    "Check there are not any duplicates left."
   ]
  },
  {
   "cell_type": "code",
   "id": "7f6ae1d8",
   "metadata": {},
   "source": [
    "all_titles_3=pd.Series(pd.concat([gs.Title, scopus.Title, wos['Article Title']]))\n",
    "duplicated_titles_3=all_titles_3[all_titles_3.duplicated(keep='first')]\n",
    "print('Remaining number of duplicates:',duplicated_titles_3.shape[0])"
   ],
   "outputs": [],
   "execution_count": null
  },
  {
   "cell_type": "code",
   "id": "ade56892",
   "metadata": {},
   "source": [
    "# Check final shape of tables:\n",
    "print(\"Google Scholar:\", gs.shape)\n",
    "print(\"Scopus:\", scopus.shape)\n",
    "print(\"Web of Science:\", wos.shape)\n",
    "print(\"Total number of unique results:\",gs.shape[0]+scopus.shape[0]+wos.shape[0])"
   ],
   "outputs": [],
   "execution_count": null
  },
  {
   "cell_type": "markdown",
   "id": "1fdeae84",
   "metadata": {},
   "source": [
    "Save results."
   ]
  },
  {
   "cell_type": "code",
   "id": "5730832e",
   "metadata": {},
   "source": [
    "gs.to_excel('scholar_unique.xlsx',index=0)\n",
    "scopus.to_excel('scopus_unique.xlsx',index=0)\n",
    "wos.to_excel('wos_unique.xlsx',index=0)"
   ],
   "outputs": [],
   "execution_count": null
  }
 ],
 "metadata": {
  "kernelspec": {
   "display_name": "Python 3 (ipykernel)",
   "language": "python",
   "name": "python3"
  },
  "language_info": {
   "codemirror_mode": {
    "name": "ipython",
    "version": 3
   },
   "file_extension": ".py",
   "mimetype": "text/x-python",
   "name": "python",
   "nbconvert_exporter": "python",
   "pygments_lexer": "ipython3",
   "version": "3.10.12"
  },
  "toc": {
   "base_numbering": 1,
   "nav_menu": {},
   "number_sections": true,
   "sideBar": true,
   "skip_h1_title": false,
   "title_cell": "Table of Contents",
   "title_sidebar": "Contents",
   "toc_cell": false,
   "toc_position": {},
   "toc_section_display": true,
   "toc_window_display": false
  },
  "varInspector": {
   "cols": {
    "lenName": 16,
    "lenType": 16,
    "lenVar": 40
   },
   "kernels_config": {
    "python": {
     "delete_cmd_postfix": "",
     "delete_cmd_prefix": "del ",
     "library": "var_list.py",
     "varRefreshCmd": "print(var_dic_list())"
    },
    "r": {
     "delete_cmd_postfix": ") ",
     "delete_cmd_prefix": "rm(",
     "library": "var_list.r",
     "varRefreshCmd": "cat(var_dic_list()) "
    }
   },
   "types_to_exclude": [
    "module",
    "function",
    "builtin_function_or_method",
    "instance",
    "_Feature"
   ],
   "window_display": false
  }
 },
 "nbformat": 4,
 "nbformat_minor": 5
}
